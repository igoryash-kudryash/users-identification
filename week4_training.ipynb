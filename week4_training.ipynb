{
 "cells": [
  {
   "cell_type": "markdown",
   "metadata": {},
   "source": [
    "<center>\n",
    "<img src=\"https://habrastorage.org/web/677/8e1/337/6778e1337c3d4b159d7e99df94227cb2.jpg\"/>\n",
    "## Специализация \"Машинное обучение и анализ данных\"\n",
    "<center>Автор материала: программист-исследователь Mail.Ru Group, старший преподаватель Факультета Компьютерных Наук ВШЭ [Юрий Кашницкий](https://yorko.github.io/)"
   ]
  },
  {
   "cell_type": "markdown",
   "metadata": {},
   "source": [
    "# <center> Capstone проект №1 <br> Идентификация пользователей по посещенным веб-страницам\n",
    "<img src='http://i.istockimg.com/file_thumbview_approve/21546327/5/stock-illustration-21546327-identification-de-l-utilisateur.jpg'>\n",
    "\n",
    "# <center>Неделя 4.  Сравнение алгоритмов классификации\n",
    "\n",
    "Теперь мы наконец подойдем к обучению моделей классификации, сравним на кросс-валидации несколько алгоритмов, разберемся, какие параметры длины сессии (*session_length* и *window_size*) лучше использовать. Также для выбранного алгоритма построим кривые валидации (как качество классификации зависит от одного из гиперпараметров алгоритма) и кривые обучения (как качество классификации зависит от объема выборки).\n",
    "\n",
    "**План 4 недели:**\n",
    "- Часть 1. Сравнение нескольких алгоритмов на сессиях из 10 сайтов\n",
    "- Часть 2. Выбор параметров – длины сессии и ширины окна\n",
    "- Часть 3. Идентификация  конкретного пользователя и кривые обучения\n",
    " \n",
    "\n",
    "\n",
    "**В этой части проекта Вам могут быть полезны видеозаписи следующих лекций курса \"Обучение на размеченных данных\":**\n",
    "   - [Линейная классификация](https://www.coursera.org/learn/supervised-learning/lecture/jqLcO/linieinaia-klassifikatsiia)\n",
    "   - [Сравнение алгоритмов и выбор гиперпараметров](https://www.coursera.org/learn/supervised-learning/lecture/aF79U/sravnieniie-alghoritmov-i-vybor-ghipierparamietrov)\n",
    "   - [Кросс-валидация. Sklearn.cross_validation](https://www.coursera.org/learn/supervised-learning/lecture/XbHEk/kross-validatsiia-sklearn-cross-validation)\n",
    "   - [Линейные модели. Sklearn.linear_model. Классификация](https://www.coursera.org/learn/supervised-learning/lecture/EBg9t/linieinyie-modieli-sklearn-linear-model-klassifikatsiia)\n",
    "   - и многие другие\n"
   ]
  },
  {
   "cell_type": "markdown",
   "metadata": {},
   "source": [
    "### Задание\n",
    "1. Заполните код в этой тетрадке \n",
    "2. Если вы проходите специализацию Яндеса и МФТИ, пошлите файл с ответами в соответствующем Programming Assignment. <br> Если вы проходите курс ODS, выберите ответы в [веб-форме](https://docs.google.com/forms/d/12VB7kmzDoSVzSpQNaJp0tR-2t8K8PynQopP3dypf7i4).  "
   ]
  },
  {
   "cell_type": "code",
   "execution_count": 61,
   "metadata": {},
   "outputs": [
    {
     "name": "stdout",
     "output_type": "stream",
     "text": [
      "The watermark extension is already loaded. To reload it, use:\n",
      "  %reload_ext watermark\n"
     ]
    }
   ],
   "source": [
    "# pip install watermark\n",
    "%load_ext watermark"
   ]
  },
  {
   "cell_type": "code",
   "execution_count": 2,
   "metadata": {},
   "outputs": [
    {
     "name": "stdout",
     "output_type": "stream",
     "text": [
      "Python implementation: CPython\n",
      "Python version       : 3.8.5\n",
      "IPython version      : 7.19.0\n",
      "\n",
      "numpy      : 1.19.2\n",
      "scipy      : 1.5.2\n",
      "pandas     : 1.1.3\n",
      "matplotlib : 3.3.2\n",
      "statsmodels: 0.12.0\n",
      "sklearn    : 0.23.2\n",
      "\n",
      "Compiler    : MSC v.1916 64 bit (AMD64)\n",
      "OS          : Windows\n",
      "Release     : 10\n",
      "Machine     : AMD64\n",
      "Processor   : Intel64 Family 6 Model 142 Stepping 10, GenuineIntel\n",
      "CPU cores   : 8\n",
      "Architecture: 64bit\n",
      "\n",
      "Git hash: \n",
      "\n"
     ]
    }
   ],
   "source": [
    "%watermark -v -m -p numpy,scipy,pandas,matplotlib,statsmodels,sklearn -g"
   ]
  },
  {
   "cell_type": "code",
   "execution_count": 3,
   "metadata": {},
   "outputs": [],
   "source": [
    "from __future__ import division, print_function\n",
    "# отключим всякие предупреждения Anaconda\n",
    "import warnings\n",
    "warnings.filterwarnings('ignore')\n",
    "from time import time\n",
    "import itertools\n",
    "import os\n",
    "import numpy as np\n",
    "import pandas as pd\n",
    "import seaborn as sns\n",
    "%matplotlib inline\n",
    "from matplotlib import pyplot as plt\n",
    "import pickle\n",
    "from scipy.sparse import csr_matrix\n",
    "from sklearn.model_selection import train_test_split, cross_val_score, StratifiedKFold, GridSearchCV\n",
    "from sklearn.metrics import accuracy_score, f1_score"
   ]
  },
  {
   "cell_type": "code",
   "execution_count": 4,
   "metadata": {},
   "outputs": [],
   "source": [
    "# Поменяйте на свой путь к данным\n",
    "PATH_TO_DATA = \"C:\\\\Users\\\\arxei\\\\Anaconda\\\\CourseraDeepLearning\\\\Course6\\\\UsersIdentification\""
   ]
  },
  {
   "cell_type": "markdown",
   "metadata": {},
   "source": [
    "## Часть 1. Сравнение нескольких алгоритмов на сессиях из 10 сайтов"
   ]
  },
  {
   "cell_type": "markdown",
   "metadata": {},
   "source": [
    "**Загрузим сериализованные ранее объекты *X_sparse_10users* и *y_10users*, соответствующие обучающей выборке для 10 пользователей.**"
   ]
  },
  {
   "cell_type": "code",
   "execution_count": 100,
   "metadata": {},
   "outputs": [],
   "source": [
    "with open(os.path.join(PATH_TO_DATA, \n",
    "         'X_sparse_10users.pkl'), 'rb') as X_sparse_10users_pkl:\n",
    "    X_sparse_10users = pickle.load(X_sparse_10users_pkl)\n",
    "with open(os.path.join(PATH_TO_DATA, \n",
    "                       'y_10users.pkl'), 'rb') as y_10users_pkl:\n",
    "    y_10users = pickle.load(y_10users_pkl)"
   ]
  },
  {
   "cell_type": "markdown",
   "metadata": {},
   "source": [
    "**Здесь более 14 тысяч сессий и почти 5 тысяч уникальных посещенных сайтов.**"
   ]
  },
  {
   "cell_type": "code",
   "execution_count": 101,
   "metadata": {},
   "outputs": [
    {
     "data": {
      "text/plain": [
       "(14061, 4913)"
      ]
     },
     "execution_count": 101,
     "metadata": {},
     "output_type": "execute_result"
    }
   ],
   "source": [
    "X_sparse_10users.shape"
   ]
  },
  {
   "cell_type": "markdown",
   "metadata": {},
   "source": [
    "**Разобьем выборку на 2 части. На одной будем проводить кросс-валидацию, на второй – оценивать модель, обученную после кросс-валидации.**"
   ]
  },
  {
   "cell_type": "code",
   "execution_count": 102,
   "metadata": {},
   "outputs": [],
   "source": [
    "X_train, X_valid, y_train, y_valid = train_test_split(X_sparse_10users, y_10users, \n",
    "                                                      test_size=0.3, \n",
    "                                                     random_state=17, stratify=y_10users)"
   ]
  },
  {
   "cell_type": "markdown",
   "metadata": {},
   "source": [
    "**Зададим заранее тип кросс-валидации: 3-кратная, с перемешиванием, параметр random_state=17 – для воспроизводимости.**"
   ]
  },
  {
   "cell_type": "code",
   "execution_count": 103,
   "metadata": {},
   "outputs": [],
   "source": [
    "skf = StratifiedKFold(n_splits=3, shuffle=True, random_state=17)"
   ]
  },
  {
   "cell_type": "markdown",
   "metadata": {},
   "source": [
    "**Вспомогательная функция для отрисовки кривых валидации после запуска GridSearchCV (или RandomizedCV).**"
   ]
  },
  {
   "cell_type": "code",
   "execution_count": 9,
   "metadata": {},
   "outputs": [],
   "source": [
    "def plot_validation_curves(param_values, grid_cv_results_):\n",
    "    train_mu, train_std = grid_cv_results_['mean_train_score'], grid_cv_results_['std_train_score']\n",
    "    valid_mu, valid_std = grid_cv_results_['mean_test_score'], grid_cv_results_['std_test_score']\n",
    "    train_line = plt.plot(param_values, train_mu, '-', label='train', color='green')\n",
    "    valid_line = plt.plot(param_values, valid_mu, '-', label='test', color='red')\n",
    "    plt.fill_between(param_values, train_mu - train_std, train_mu + train_std, edgecolor='none',\n",
    "                     facecolor=train_line[0].get_color(), alpha=0.2)\n",
    "    plt.fill_between(param_values, valid_mu - valid_std, valid_mu + valid_std, edgecolor='none',\n",
    "                     facecolor=valid_line[0].get_color(), alpha=0.2)\n",
    "    plt.legend()"
   ]
  },
  {
   "cell_type": "markdown",
   "metadata": {},
   "source": [
    "**1. Обучите `KNeighborsClassifier` со 100 ближайшими соседями (остальные параметры оставьте по умолчанию, только `n_jobs`=-1 для распараллеливания) и посмотрите на долю правильных ответов на 3-кратной кросс-валидации (ради воспроизводимости используйте для этого объект `StratifiedKFold` `skf`) по выборке `(X_train, y_train)` и отдельно на выборке `(X_valid, y_valid)`.**"
   ]
  },
  {
   "cell_type": "code",
   "execution_count": 10,
   "metadata": {},
   "outputs": [],
   "source": [
    "from sklearn.neighbors import KNeighborsClassifier"
   ]
  },
  {
   "cell_type": "code",
   "execution_count": 11,
   "metadata": {},
   "outputs": [],
   "source": [
    "knn = KNeighborsClassifier(100, n_jobs=-1)\n",
    "score = cross_val_score(knn, X_train.toarray(), y_train, cv=skf).mean()"
   ]
  },
  {
   "cell_type": "code",
   "execution_count": 12,
   "metadata": {},
   "outputs": [],
   "source": [
    "knn2 = KNeighborsClassifier(100, n_jobs=-1).fit(X_train, y_train)\n",
    "pred = knn2.predict(X_valid.toarray())"
   ]
  },
  {
   "cell_type": "markdown",
   "metadata": {},
   "source": [
    "**<font color='red'>Вопрос 1. </font> Посчитайте доли правильных ответов для KNeighborsClassifier на кросс-валидации и отложенной выборке. Округлите каждое до 3 знаков после запятой и введите через пробел.**"
   ]
  },
  {
   "cell_type": "code",
   "execution_count": 13,
   "metadata": {},
   "outputs": [
    {
     "name": "stdout",
     "output_type": "stream",
     "text": [
      "0.563 0.584\n"
     ]
    }
   ],
   "source": [
    "print(round(score,3), round(accuracy_score(y_valid, pred), 3))"
   ]
  },
  {
   "cell_type": "markdown",
   "metadata": {},
   "source": [
    "**2. Обучите случайный лес (`RandomForestClassifier`) из 100 деревьев (для воспроизводимости `random_state`=17). Посмотрите на OOB-оценку (для этого надо сразу установить `oob_score`=True) и на долю правильных ответов на выборке `(X_valid, y_valid)`. Для распараллеливания задайте `n_jobs`=-1.**"
   ]
  },
  {
   "cell_type": "code",
   "execution_count": 14,
   "metadata": {},
   "outputs": [],
   "source": [
    "from sklearn.ensemble import RandomForestClassifier"
   ]
  },
  {
   "cell_type": "code",
   "execution_count": 15,
   "metadata": {},
   "outputs": [],
   "source": [
    "forest = RandomForestClassifier(100, oob_score=True, random_state=17, n_jobs=-1)\n",
    "score = cross_val_score(forest, X_train, y_train, cv=skf).mean()"
   ]
  },
  {
   "cell_type": "code",
   "execution_count": 16,
   "metadata": {},
   "outputs": [],
   "source": [
    "forest2 = RandomForestClassifier(100, oob_score=True, random_state=17, n_jobs=-1)\n",
    "forest2.fit(X_train, y_train)\n",
    "forest_pred = forest2.predict(X_valid)"
   ]
  },
  {
   "cell_type": "markdown",
   "metadata": {},
   "source": [
    "**<font color='red'>Вопрос 2. </font> Посчитайте доли правильных ответов для `RandomForestClassifier` при Out-of-Bag оценке и на отложенной выборке. Округлите каждое до 3 знаков после запятой и введите через пробел.**"
   ]
  },
  {
   "cell_type": "code",
   "execution_count": 17,
   "metadata": {},
   "outputs": [
    {
     "name": "stdout",
     "output_type": "stream",
     "text": [
      "0.716 0.735\n"
     ]
    }
   ],
   "source": [
    "print(round(score, 3), round(accuracy_score(y_valid, forest_pred), 3))"
   ]
  },
  {
   "cell_type": "markdown",
   "metadata": {},
   "source": [
    "**3. Обучите логистическую регрессию (`LogisticRegression`) с параметром `C` по умолчанию и `random_state`=17 (для воспроизводимости). Посмотрите на долю правильных ответов на кросс-валидации (используйте объект `skf`, созданный ранее) и на выборке `(X_valid, y_valid)`. Для распараллеливания задайте `n_jobs=-1`.**"
   ]
  },
  {
   "cell_type": "code",
   "execution_count": 104,
   "metadata": {},
   "outputs": [],
   "source": [
    "from sklearn.linear_model import LogisticRegression, LogisticRegressionCV"
   ]
  },
  {
   "cell_type": "code",
   "execution_count": 19,
   "metadata": {},
   "outputs": [],
   "source": [
    "logit = LogisticRegression(random_state=17)\n",
    "score = cross_val_score(logit, X_train.toarray(), y_train, cv=skf).mean()"
   ]
  },
  {
   "cell_type": "code",
   "execution_count": 20,
   "metadata": {},
   "outputs": [],
   "source": [
    "logit2 = LogisticRegression(random_state=17)\n",
    "logit2.fit(X_train, y_train)\n",
    "logit_pred = logit2.predict(X_valid)"
   ]
  },
  {
   "cell_type": "code",
   "execution_count": 21,
   "metadata": {},
   "outputs": [
    {
     "name": "stdout",
     "output_type": "stream",
     "text": [
      "0.761 0.777\n"
     ]
    }
   ],
   "source": [
    "print(round(score, 3), round(accuracy_score(y_valid, logit_pred), 3))"
   ]
  },
  {
   "cell_type": "markdown",
   "metadata": {},
   "source": [
    "**Почитайте документацию к [LogisticRegressionCV](http://scikit-learn.org/stable/modules/generated/sklearn.linear_model.LogisticRegressionCV.html). Логистическая регрессия хорошо изучена, и для нее существуют алгоритмы быстрого подбора параметра регуляризации `C` (быстрее, чем с `GridSearchCV`).**\n",
    "\n",
    "**С помощью `LogisticRegressionCV` подберите параметр `C` для `LogisticRegression` сначала в широком диапазоне: 10 значений от 1e-4 до 1e2, используйте `logspace` из `NumPy`. Укажите у `LogisticRegressionCV` параметры `multi_class`='multinomial' и `random_state`=17. Для кросс-валидации используйте объект `skf`, созданный ранее. Для распараллеливания задайте `n_jobs=-1`.**\n",
    "\n",
    "**Нарисуйте кривые валидации по параметру `C`.**"
   ]
  },
  {
   "cell_type": "code",
   "execution_count": 22,
   "metadata": {},
   "outputs": [
    {
     "name": "stdout",
     "output_type": "stream",
     "text": [
      "Wall time: 27.6 s\n"
     ]
    },
    {
     "data": {
      "text/plain": [
       "LogisticRegressionCV(Cs=array([1.00000000e-04, 4.64158883e-04, 2.15443469e-03, 1.00000000e-02,\n",
       "       4.64158883e-02, 2.15443469e-01, 1.00000000e+00, 4.64158883e+00,\n",
       "       2.15443469e+01, 1.00000000e+02]),\n",
       "                     cv=StratifiedKFold(n_splits=3, random_state=17, shuffle=True),\n",
       "                     multi_class='multinomial', n_jobs=-1, random_state=17)"
      ]
     },
     "execution_count": 22,
     "metadata": {},
     "output_type": "execute_result"
    }
   ],
   "source": [
    "%%time\n",
    "logit_c_values1 = np.logspace(-4, 2, 10)\n",
    "\n",
    "logit_grid_searcher1 = LogisticRegressionCV(Cs = logit_c_values1, cv = skf, multi_class='multinomial', random_state=17, n_jobs = -1)\n",
    "logit_grid_searcher1.fit(X_train, y_train)"
   ]
  },
  {
   "cell_type": "code",
   "execution_count": 23,
   "metadata": {},
   "outputs": [
    {
     "data": {
      "text/plain": [
       "0.7755392273050485"
      ]
     },
     "execution_count": 23,
     "metadata": {},
     "output_type": "execute_result"
    }
   ],
   "source": [
    "logit_grid_searcher1.score(X_valid, y_valid)"
   ]
  },
  {
   "cell_type": "markdown",
   "metadata": {},
   "source": [
    "Средние значения доли правильных ответов на кросс-валидации по каждому из 10 параметров `C`."
   ]
  },
  {
   "cell_type": "code",
   "execution_count": 24,
   "metadata": {},
   "outputs": [],
   "source": [
    "logit_scores1 = []\n",
    "score_max = -1\n",
    "\n",
    "for _, row in logit_grid_searcher1.scores_.items():\n",
    "    for elem in row:\n",
    "        logit_scores1.append(elem)\n",
    "        if score_max < np.max(elem):\n",
    "            score_max = np.max(elem)\n",
    "            c_max_index = np.argmax(elem)\n",
    "logit_mean_cv_scores1 = []\n",
    "for j in range (0, len(logit_c_values1)):\n",
    "    logit_mean_cv_scores1.append(np.mean([logit_scores1[i][j] for i in range(0, len(logit_scores1))]))"
   ]
  },
  {
   "cell_type": "markdown",
   "metadata": {},
   "source": [
    "Выведите лучшее значение доли правильных ответов на кросс-валидации и соответствующее значение `C`."
   ]
  },
  {
   "cell_type": "code",
   "execution_count": 25,
   "metadata": {},
   "outputs": [
    {
     "name": "stdout",
     "output_type": "stream",
     "text": [
      "0.7734756097560975\n",
      "1.0\n"
     ]
    }
   ],
   "source": [
    "print(score_max)\n",
    "print(logit_c_values1[c_max_index])"
   ]
  },
  {
   "cell_type": "markdown",
   "metadata": {},
   "source": [
    "Нарисуйте график зависимости доли правильных ответов на кросс-валидации от `C`."
   ]
  },
  {
   "cell_type": "code",
   "execution_count": 26,
   "metadata": {},
   "outputs": [
    {
     "data": {
      "text/plain": [
       "[<matplotlib.lines.Line2D at 0x20025f89a90>]"
      ]
     },
     "execution_count": 26,
     "metadata": {},
     "output_type": "execute_result"
    },
    {
     "data": {
      "image/png": "[encoded data removed]",
      "text/plain": [
       "<Figure size 432x288 with 1 Axes>"
      ]
     },
     "metadata": {
      "needs_background": "light"
     },
     "output_type": "display_data"
    }
   ],
   "source": [
    "plt.plot(logit_c_values1, logit_mean_cv_scores1)"
   ]
  },
  {
   "cell_type": "markdown",
   "metadata": {},
   "source": [
    "**Теперь то же самое, только значения параметра `C` перебирайте в диапазоне `np.linspace`(0.1, 7, 20). Опять нарисуйте кривые валидации, определите максимальное значение доли правильных ответов на кросс-валидации.**"
   ]
  },
  {
   "cell_type": "code",
   "execution_count": 27,
   "metadata": {},
   "outputs": [
    {
     "name": "stdout",
     "output_type": "stream",
     "text": [
      "Wall time: 1min 16s\n"
     ]
    },
    {
     "data": {
      "text/plain": [
       "LogisticRegressionCV(Cs=array([0.1       , 0.46315789, 0.82631579, 1.18947368, 1.55263158,\n",
       "       1.91578947, 2.27894737, 2.64210526, 3.00526316, 3.36842105,\n",
       "       3.73157895, 4.09473684, 4.45789474, 4.82105263, 5.18421053,\n",
       "       5.54736842, 5.91052632, 6.27368421, 6.63684211, 7.        ]),\n",
       "                     cv=StratifiedKFold(n_splits=3, random_state=17, shuffle=True),\n",
       "                     multi_class='multinomial', n_jobs=-1, random_state=17)"
      ]
     },
     "execution_count": 27,
     "metadata": {},
     "output_type": "execute_result"
    }
   ],
   "source": [
    "%%time\n",
    "logit_c_values2 = np.linspace(0.1, 7, 20)\n",
    "\n",
    "logit_grid_searcher2 = LogisticRegressionCV(Cs = logit_c_values2, cv = skf, multi_class='multinomial', random_state=17, n_jobs = -1)\n",
    "logit_grid_searcher2.fit(X_train, y_train)"
   ]
  },
  {
   "cell_type": "code",
   "execution_count": 28,
   "metadata": {},
   "outputs": [],
   "source": [
    "logit2_pred = logit_grid_searcher2.predict(X_valid)"
   ]
  },
  {
   "cell_type": "markdown",
   "metadata": {},
   "source": [
    "Средние значения доли правильных ответов на кросс-валидации по каждому из 10 параметров `C`."
   ]
  },
  {
   "cell_type": "code",
   "execution_count": 29,
   "metadata": {},
   "outputs": [],
   "source": [
    "logit_scores2 = []\n",
    "score_max = -1\n",
    "\n",
    "for _, row in logit_grid_searcher2.scores_.items():\n",
    "    for elem in row:\n",
    "        logit_scores2.append(elem)\n",
    "        if score_max < np.max(elem):\n",
    "            score_max = np.max(elem)\n",
    "            c_max_index = np.argmax(elem)\n",
    "logit_mean_cv_scores2 = []\n",
    "for j in range (0, len(logit_c_values2)):\n",
    "    logit_mean_cv_scores2.append(np.mean([logit_scores2[i][j] for i in range(0, len(logit_scores2))]))"
   ]
  },
  {
   "cell_type": "code",
   "execution_count": 30,
   "metadata": {},
   "outputs": [
    {
     "name": "stdout",
     "output_type": "stream",
     "text": [
      "0.7795686181559611\n"
     ]
    }
   ],
   "source": [
    "print(logit_grid_searcher2.score(X_valid, y_valid))"
   ]
  },
  {
   "cell_type": "markdown",
   "metadata": {},
   "source": [
    "Выведите лучшее значение доли правильных ответов на кросс-валидации и соответствующее значение `C`."
   ]
  },
  {
   "cell_type": "code",
   "execution_count": 31,
   "metadata": {},
   "outputs": [
    {
     "name": "stdout",
     "output_type": "stream",
     "text": [
      "0.7740853658536585\n",
      "1.9157894736842107\n"
     ]
    }
   ],
   "source": [
    "print(score_max)\n",
    "print(logit_c_values2[c_max_index])"
   ]
  },
  {
   "cell_type": "markdown",
   "metadata": {},
   "source": [
    "Нарисуйте график зависимости доли правильных ответов на кросс-валидации от `C`."
   ]
  },
  {
   "cell_type": "code",
   "execution_count": 32,
   "metadata": {},
   "outputs": [
    {
     "data": {
      "image/png": "[encoded data removed]",
      "text/plain": [
       "<Figure size 432x288 with 1 Axes>"
      ]
     },
     "metadata": {
      "needs_background": "light"
     },
     "output_type": "display_data"
    }
   ],
   "source": [
    "plt.plot(logit_c_values2, logit_mean_cv_scores2);"
   ]
  },
  {
   "cell_type": "markdown",
   "metadata": {},
   "source": [
    "Выведите долю правильных ответов на выборке `(X_valid, y_valid)` для логистической регрессии с лучшим найденным значением `C`."
   ]
  },
  {
   "cell_type": "code",
   "execution_count": 33,
   "metadata": {},
   "outputs": [
    {
     "name": "stdout",
     "output_type": "stream",
     "text": [
      "0.7795686181559611\n"
     ]
    }
   ],
   "source": [
    "logit_cv_acc = accuracy_score(logit2_pred, y_valid)\n",
    "print(logit_cv_acc)"
   ]
  },
  {
   "cell_type": "code",
   "execution_count": 34,
   "metadata": {},
   "outputs": [
    {
     "name": "stdout",
     "output_type": "stream",
     "text": [
      "0.7625494966089557\n"
     ]
    }
   ],
   "source": [
    "regr = LogisticRegression(random_state=17, n_jobs = -1, C=logit_c_values2[c_max_index])\n",
    "score_regr = cross_val_score(regr, X_train.toarray(), y_train, cv=skf).mean()\n",
    "print(score_regr)"
   ]
  },
  {
   "cell_type": "code",
   "execution_count": 35,
   "metadata": {},
   "outputs": [
    {
     "name": "stdout",
     "output_type": "stream",
     "text": [
      "[ 33 128  39 ... 207  39 237]\n"
     ]
    }
   ],
   "source": [
    "regr2 = LogisticRegression(random_state=17, n_jobs=-1, C=logit_c_values2[c_max_index])\n",
    "regr2.fit(X_train, y_train)\n",
    "regr2_pred = regr2.predict(X_valid)\n",
    "print(regr2_pred)"
   ]
  },
  {
   "cell_type": "markdown",
   "metadata": {},
   "source": [
    "**<font color='red'>Вопрос 3. </font>Посчитайте доли правильных ответов для `logit_grid_searcher2` на кросс-валидации для лучшего значения параметра `C` и на отложенной выборке. Округлите каждое до 3 знаков после запятой и выведите через пробел.**"
   ]
  },
  {
   "cell_type": "code",
   "execution_count": 36,
   "metadata": {},
   "outputs": [
    {
     "name": "stdout",
     "output_type": "stream",
     "text": [
      "0.763 0.782\n"
     ]
    }
   ],
   "source": [
    "print(round(score_regr, 3), round(accuracy_score(y_valid, regr2_pred), 3))"
   ]
  },
  {
   "cell_type": "markdown",
   "metadata": {},
   "source": [
    "**4. Обучите линейный SVM (`LinearSVC`) с параметром `C`=1 и `random_state`=17 (для воспроизводимости). Посмотрите на долю правильных ответов на кросс-валидации (используйте объект `skf`, созданный ранее) и на выборке `(X_valid, y_valid)`.**"
   ]
  },
  {
   "cell_type": "code",
   "execution_count": 37,
   "metadata": {},
   "outputs": [],
   "source": [
    "from sklearn.svm import LinearSVC"
   ]
  },
  {
   "cell_type": "code",
   "execution_count": 38,
   "metadata": {},
   "outputs": [],
   "source": [
    "svm = LinearSVC(C=1, random_state=17)\n",
    "svm_score = cross_val_score(svm, X_train.toarray(), y_train, cv=skf).mean()"
   ]
  },
  {
   "cell_type": "markdown",
   "metadata": {},
   "source": [
    "**С помощью `GridSearchCV` подберите параметр `C` для SVM сначала в широком диапазоне: 10 значений от 1e-4 до 1e4, используйте `linspace` из NumPy. Нарисуйте кривые валидации.**"
   ]
  },
  {
   "cell_type": "code",
   "execution_count": 39,
   "metadata": {},
   "outputs": [
    {
     "name": "stdout",
     "output_type": "stream",
     "text": [
      "Wall time: 3min 58s\n"
     ]
    },
    {
     "data": {
      "text/plain": [
       "GridSearchCV(estimator=LinearSVC(random_state=17),\n",
       "             param_grid={'C': array([1.0000000e-04, 1.1111112e+03, 2.2222223e+03, 3.3333334e+03,\n",
       "       4.4444445e+03, 5.5555556e+03, 6.6666667e+03, 7.7777778e+03,\n",
       "       8.8888889e+03, 1.0000000e+04])},\n",
       "             return_train_score=True)"
      ]
     },
     "execution_count": 39,
     "metadata": {},
     "output_type": "execute_result"
    }
   ],
   "source": [
    "%%time\n",
    "svm_params1 = {'C': np.linspace(1e-4, 1e4, 10)}\n",
    "\n",
    "svm = LinearSVC(random_state=17)\n",
    "\n",
    "svm_grid_searcher1 = GridSearchCV(svm, param_grid=svm_params1, return_train_score=True)\n",
    "svm_grid_searcher1.fit(X_train, y_train)"
   ]
  },
  {
   "cell_type": "code",
   "execution_count": 40,
   "metadata": {},
   "outputs": [
    {
     "name": "stdout",
     "output_type": "stream",
     "text": [
      "Best score: 0.6952843773612952\n",
      "Best C: 4444.4445000000005\n"
     ]
    }
   ],
   "source": [
    "print(\"Best score:\", svm_grid_searcher1.best_score_)\n",
    "C_best_svm = svm_grid_searcher1.best_params_['C']\n",
    "print(\"Best C:\", C_best_svm)"
   ]
  },
  {
   "cell_type": "markdown",
   "metadata": {},
   "source": [
    "Выведите лучшее значение доли правильных ответов на кросс-валидации и соответствующее значение `C`."
   ]
  },
  {
   "cell_type": "markdown",
   "metadata": {},
   "source": [
    "Нарисуйте график зависимости доли правильных ответов на кросс-валидации от `C`."
   ]
  },
  {
   "cell_type": "code",
   "execution_count": 41,
   "metadata": {},
   "outputs": [
    {
     "data": {
      "image/png": "[encoded data removed]",
      "text/plain": [
       "<Figure size 432x288 with 1 Axes>"
      ]
     },
     "metadata": {
      "needs_background": "light"
     },
     "output_type": "display_data"
    }
   ],
   "source": [
    "plot_validation_curves(svm_params1['C'], svm_grid_searcher1.cv_results_)"
   ]
  },
  {
   "cell_type": "markdown",
   "metadata": {},
   "source": [
    "**Но мы помним, что с параметром регуляризации по умолчанию (С=1) на кросс-валидации доля правильных ответов выше. Это тот случай (не редкий), когда можно ошибиться и перебирать параметры не в том диапазоне (причина в том, что мы взяли равномерную сетку на большом интервале и упустили действительно хороший интервал значений `C`). Здесь намного осмысленней подбирать `C` в районе 1, к тому же, так модель быстрее обучается, чем при больших `C`. **\n",
    "\n",
    "**С помощью `GridSearchCV` подберите параметр `C` для SVM в диапазоне (1e-3, 1), 30 значений, используйте `linspace` из NumPy. Нарисуйте кривые валидации.**"
   ]
  },
  {
   "cell_type": "code",
   "execution_count": 42,
   "metadata": {},
   "outputs": [
    {
     "name": "stdout",
     "output_type": "stream",
     "text": [
      "Wall time: 6min 18s\n"
     ]
    },
    {
     "data": {
      "text/plain": [
       "GridSearchCV(estimator=LinearSVC(random_state=17),\n",
       "             param_grid={'C': array([0.001     , 0.03544828, 0.06989655, 0.10434483, 0.1387931 ,\n",
       "       0.17324138, 0.20768966, 0.24213793, 0.27658621, 0.31103448,\n",
       "       0.34548276, 0.37993103, 0.41437931, 0.44882759, 0.48327586,\n",
       "       0.51772414, 0.55217241, 0.58662069, 0.62106897, 0.65551724,\n",
       "       0.68996552, 0.72441379, 0.75886207, 0.79331034, 0.82775862,\n",
       "       0.8622069 , 0.89665517, 0.93110345, 0.96555172, 1.        ])},\n",
       "             return_train_score=True)"
      ]
     },
     "execution_count": 42,
     "metadata": {},
     "output_type": "execute_result"
    }
   ],
   "source": [
    "%%time\n",
    "svm_params2 = {'C': np.linspace(1e-3, 1, 30)}\n",
    "\n",
    "svm_grid_searcher2 = GridSearchCV(svm, param_grid=svm_params2, return_train_score=True)\n",
    "svm_grid_searcher2.fit(X_train, y_train)"
   ]
  },
  {
   "cell_type": "markdown",
   "metadata": {},
   "source": [
    "Выведите лучшее значение доли правильных ответов на кросс-валидации и соответствующее значение `C`."
   ]
  },
  {
   "cell_type": "code",
   "execution_count": 43,
   "metadata": {},
   "outputs": [
    {
     "name": "stdout",
     "output_type": "stream",
     "text": [
      "Best score: 0.7701686093803548\n",
      "Best C: 0.10434482758620689\n"
     ]
    }
   ],
   "source": [
    "print(\"Best score:\", svm_grid_searcher2.best_score_)\n",
    "C_best_svm2 = svm_grid_searcher2.best_params_['C']\n",
    "print(\"Best C:\", C_best_svm2)"
   ]
  },
  {
   "cell_type": "markdown",
   "metadata": {},
   "source": [
    "Нарисуйте график зависимости доли правильных ответов на кросс-валидации от С."
   ]
  },
  {
   "cell_type": "code",
   "execution_count": 44,
   "metadata": {},
   "outputs": [
    {
     "data": {
      "image/png": "[encoded data removed]",
      "text/plain": [
       "<Figure size 432x288 with 1 Axes>"
      ]
     },
     "metadata": {
      "needs_background": "light"
     },
     "output_type": "display_data"
    }
   ],
   "source": [
    "plot_validation_curves(svm_params2['C'], svm_grid_searcher2.cv_results_)"
   ]
  },
  {
   "cell_type": "markdown",
   "metadata": {},
   "source": [
    "Выведите долю правильных ответов на выборке `(X_valid, y_valid)` для `LinearSVC` с лучшим найденным значением `C`."
   ]
  },
  {
   "cell_type": "code",
   "execution_count": 45,
   "metadata": {},
   "outputs": [],
   "source": [
    "svm2_pred = svm_grid_searcher2.predict(X_valid)\n",
    "svm_cv_acc = accuracy_score(svm2_pred, y_valid)"
   ]
  },
  {
   "cell_type": "code",
   "execution_count": 46,
   "metadata": {},
   "outputs": [],
   "source": [
    "score_svm2 = svm_grid_searcher2.best_score_"
   ]
  },
  {
   "cell_type": "markdown",
   "metadata": {},
   "source": [
    "**<font color='red'>Вопрос 4. </font> Посчитайте доли правильных ответов для `svm_grid_searcher2` на кросс-валидации для лучшего значения параметра `C` и на отложенной выборке. Округлите каждое до 3 знаков после запятой и выведите через пробел.**"
   ]
  },
  {
   "cell_type": "code",
   "execution_count": 50,
   "metadata": {},
   "outputs": [
    {
     "name": "stdout",
     "output_type": "stream",
     "text": [
      "0.7701686093803548 0.7807537331121118\n"
     ]
    }
   ],
   "source": [
    "print(score_svm2, svm_cv_acc)"
   ]
  },
  {
   "cell_type": "code",
   "execution_count": 47,
   "metadata": {},
   "outputs": [
    {
     "name": "stdout",
     "output_type": "stream",
     "text": [
      "0.77 0.781\n"
     ]
    }
   ],
   "source": [
    "print(round(score_svm2, 3), round(svm_cv_acc, 3))"
   ]
  },
  {
   "cell_type": "markdown",
   "metadata": {},
   "source": [
    "## Часть 2. Выбор параметров – длины сессии и ширины окна"
   ]
  },
  {
   "cell_type": "markdown",
   "metadata": {},
   "source": [
    "**Возьмем `LinearSVC`, показавший лучшее качество на кросс-валидации в 1 части, и проверим его работу еще на 8 выборках для 10 пользователей (с разными сочетаниями параметров *session_length* и *window_size*). Поскольку тут уже вычислений побольше, мы не будем каждый раз заново подбирать параметр регуляризации `C`.**\n",
    "\n",
    "**Определите функцию `model_assessment`, ее документация описана ниже. Обратите внимание на все детали. Например, на то, что разбиение  выборки с `train_test_split` должно быть стратифицированным. Не теряйте нигде `random_state`.**"
   ]
  },
  {
   "cell_type": "code",
   "execution_count": 204,
   "metadata": {},
   "outputs": [],
   "source": [
    "def model_assessment(estimator, path_to_X_pickle, path_to_y_pickle, cv, random_state=17, test_size=0.3):\n",
    "    '''\n",
    "    Estimates CV-accuracy for (1 - test_size) share of (X_sparse, y) \n",
    "    loaded from path_to_X_pickle and path_to_y_pickle and holdout accuracy for (test_size) share of (X_sparse, y).\n",
    "    The split is made with stratified train_test_split with params random_state and test_size.\n",
    "    \n",
    "    :param estimator – Scikit-learn estimator (classifier or regressor)\n",
    "    :param path_to_X_pickle – path to pickled sparse X (instances and their features)\n",
    "    :param path_to_y_pickle – path to pickled y (responses)\n",
    "    :param cv – cross-validation as in cross_val_score (use StratifiedKFold here)\n",
    "    :param random_state –  for train_test_split\n",
    "    :param test_size –  for train_test_split\n",
    "    \n",
    "    :returns mean CV-accuracy for (X_train, y_train) and accuracy for (X_valid, y_valid) where (X_train, y_train)\n",
    "    and (X_valid, y_valid) are (1 - test_size) and (testsize) shares of (X_sparse, y).\n",
    "    '''\n",
    "    with open(os.path.join(PATH_TO_DATA, path_to_X_pickle), 'rb') as X_sparse_pkl:\n",
    "        X = pickle.load(X_sparse_pkl)\n",
    "    with open(os.path.join(PATH_TO_DATA, path_to_y_pickle), 'rb') as y_pkl:\n",
    "        y = pickle.load(y_pkl)\n",
    "        \n",
    "    X_train, X_test, y_train, y_test = train_test_split(X, y, test_size=test_size, random_state=random_state, stratify=y)\n",
    "    \n",
    "    cv_score = cross_val_score(estimator, X_train, y_train, cv=cv).mean()\n",
    "    #print(\"X.shape:\", X_train.shape, X_test.shape, \"Y.shape\", y_train.shape, y_test.shape)\n",
    "\n",
    "    y_pred = estimator.predict(X_test)\n",
    "    acc_score = accuracy_score(y_pred, y_test)\n",
    "    \n",
    "    return cv_score, acc_score"
   ]
  },
  {
   "cell_type": "markdown",
   "metadata": {},
   "source": [
    "**Убедитесь, что функция работает.**"
   ]
  },
  {
   "cell_type": "code",
   "execution_count": 205,
   "metadata": {},
   "outputs": [
    {
     "data": {
      "text/plain": [
       "(0.7670206386611259, 0.7807537331121118)"
      ]
     },
     "execution_count": 205,
     "metadata": {},
     "output_type": "execute_result"
    }
   ],
   "source": [
    "model_assessment(svm_grid_searcher2.best_estimator_, \n",
    "                 os.path.join(PATH_TO_DATA, 'X_sparse_10users.pkl'),\n",
    "        os.path.join(PATH_TO_DATA, 'y_10users.pkl'), skf, random_state=17, test_size=0.3)"
   ]
  },
  {
   "cell_type": "markdown",
   "metadata": {},
   "source": [
    "**Примените функцию *model_assessment* для лучшего алгоритма из предыдущей части (а именно, `svm_grid_searcher2.best_estimator_`) и 9 выборок вида с разными сочетаниями параметров *session_length* и *window_size* для 10 пользователей. Выведите в цикле параметры *session_length* и *window_size*, а также результат вывода функции *model_assessment*. \n",
    "Удобно сделать так, чтоб *model_assessment* возвращала 3-им элементом время, за которое она выполнилась. На моем ноуте этот участок кода выполнился за 20 секунд. Но со 150 пользователями каждая итерация занимает уже несколько минут.**"
   ]
  },
  {
   "cell_type": "markdown",
   "metadata": {},
   "source": [
    "Здесь для удобства стоит создать копии ранее созданных pickle-файлов X_sparse_10users.pkl, X_sparse_150users.pkl, y_10users.pkl и y_150users.pkl, добавив к их названиям s10_w10, что означает длину сессии 10 и ширину окна 10. "
   ]
  },
  {
   "cell_type": "code",
   "execution_count": 202,
   "metadata": {},
   "outputs": [],
   "source": [
    "# !cp $PATH_TO_DATA/X_sparse_10users.pkl $PATH_TO_DATA/\"window_data\"/X_sparse_10users_s10_w10.pkl \n",
    "# !cp $PATH_TO_DATA/X_sparse_150users.pkl $PATH_TO_DATA/\"window_data\"/X_sparse_150users_s10_w10.pkl \n",
    "# !cp $PATH_TO_DATA/y_10users.pkl $PATH_TO_DATA/\"window_data\"/y_10users_s10_w10.pkl \n",
    "# !cp $PATH_TO_DATA/y_150users.pkl $PATH_TO_DATA/\"window_data\"/y_150users_s10_w10.pkl "
   ]
  },
  {
   "cell_type": "code",
   "execution_count": 206,
   "metadata": {},
   "outputs": [
    {
     "name": "stdout",
     "output_type": "stream",
     "text": [
      "(0.8243252292702751, 0.828632377340602)\n",
      "(0.7670206386611259, 0.7807537331121118)\n",
      "(0.8495024256089474, 0.8583042973286876)\n",
      "(0.7983645917156946, 0.8296001327360213)\n",
      "(0.754765400423003, 0.7962502074000332)\n",
      "(0.8670355547005402, 0.8658131816026553)\n",
      "(0.8177520250854086, 0.8370080606922712)\n",
      "(0.772939529035208, 0.80049786628734)\n",
      "(0.7254849424351582, 0.7612612612612613)\n",
      "Wall time: 14.2 s\n"
     ]
    }
   ],
   "source": [
    "%%time\n",
    "estimator = svm_grid_searcher2.best_estimator_\n",
    "\n",
    "for window_size, session_length in itertools.product([10, 7, 5], [15, 10, 7, 5]):\n",
    "    if window_size <= session_length:\n",
    "        path_to_X_pkl = os.path.join(PATH_TO_DATA, \"window_data\", f'X_sparse_10users_s{session_length}_w{window_size}.pkl')\n",
    "        path_to_y_pkl = os.path.join(PATH_TO_DATA, \"window_data\", f'y_10users_s{session_length}_w{window_size}.pkl')\n",
    "\n",
    "        print(model_assessment(estimator, path_to_X_pkl, path_to_y_pkl, skf, random_state=17, test_size=0.3))"
   ]
  },
  {
   "cell_type": "markdown",
   "metadata": {},
   "source": [
    "**<font color='red'>Вопрос 5. </font> Посчитайте доли правильных ответов для `LinearSVC` с настроенным параметром `C` и выборки `X_sparse_10users_s15_w5`. Укажите доли правильных ответов на кросс-валидации и на отложенной выборке. Округлите каждое до 3 знаков после запятой и выведите через пробел.**"
   ]
  },
  {
   "cell_type": "code",
   "execution_count": 72,
   "metadata": {},
   "outputs": [],
   "source": [
    "path_to_X_pkl = os.path.join(PATH_TO_DATA, \"window_data\", f'X_sparse_10users_s15_w5.pkl')\n",
    "path_to_y_pkl = os.path.join(PATH_TO_DATA, \"window_data\", f'y_10users_s15_w5.pkl')\n",
    "\n",
    "with open(os.path.join(PATH_TO_DATA, path_to_X_pkl), 'rb') as X_sparse_10users_s15_w5_pkl:\n",
    "        X_sparse_10users_s15_w5 = pickle.load(X_sparse_10users_s15_w5_pkl)\n",
    "with open(os.path.join(PATH_TO_DATA, path_to_y_pkl), 'rb') as y_10users_s15_w5_pkl:\n",
    "        y_10users_s15_w5 = pickle.load(y_10users_s15_w5_pkl)\n",
    "        \n",
    "X_train, X_test, y_train, y_test = train_test_split(X_sparse_10users_s15_w5, y_10users_s15_w5, test_size=0.3, random_state=17, stratify=y_10users_s15_w5)        \n"
   ]
  },
  {
   "cell_type": "code",
   "execution_count": 78,
   "metadata": {},
   "outputs": [],
   "source": [
    "svm_s15_w5 = LinearSVC(C=C_best_svm2, random_state=17)\n",
    "\n",
    "cv_score = cross_val_score(svm_s15_w5, X_train.toarray(), y_train, cv=skf).mean()\n",
    "\n",
    "svm_s15_w5.fit(X_train, y_train)\n",
    "y_pred_s15_w5 = svm_s15_w5.predict(X_test)\n",
    "acc_score = accuracy_score(y_pred_s15_w5, y_test)"
   ]
  },
  {
   "cell_type": "code",
   "execution_count": 81,
   "metadata": {},
   "outputs": [
    {
     "name": "stdout",
     "output_type": "stream",
     "text": [
      "0.867 0.875\n"
     ]
    }
   ],
   "source": [
    "print(round(cv_score, 3), round(acc_score, 3))"
   ]
  },
  {
   "cell_type": "markdown",
   "metadata": {},
   "source": [
    "**<font color='red'>Вопрос 6. </font> Посчитайте доли правильных ответов для `LinearSVC` с настроенным параметром `C` и выборки `X_sparse_150users`. Укажите доли правильных ответов на кросс-валидации и на отложенной выборке. Округлите каждое до 3 знаков после запятой и выведите через пробел.**"
   ]
  },
  {
   "cell_type": "code",
   "execution_count": 91,
   "metadata": {},
   "outputs": [],
   "source": [
    "path_to_X_pkl = os.path.join(PATH_TO_DATA, \"window_data\", f'X_sparse_150users_s10_w10.pkl')\n",
    "path_to_y_pkl = os.path.join(PATH_TO_DATA, \"window_data\", f'y_150users_s10_w10.pkl')\n",
    "\n",
    "with open(os.path.join(PATH_TO_DATA, path_to_X_pkl), 'rb') as X_sparse_150users_s10_w10_pkl:\n",
    "        X_sparse_150users_s10_w10 = pickle.load(X_sparse_150users_s10_w10_pkl)\n",
    "with open(os.path.join(PATH_TO_DATA, path_to_y_pkl), 'rb') as y_150users_s10_w10_pkl:\n",
    "        y_150users_s10_w10 = pickle.load(y_150users_s10_w10_pkl)\n",
    "        \n",
    "X_train, X_test, y_train, y_test = train_test_split(X_sparse_150users_s10_w10, y_150users_s10_w10, test_size=0.3, random_state=17, stratify=y_150users_s10_w10)        \n"
   ]
  },
  {
   "cell_type": "code",
   "execution_count": 95,
   "metadata": {},
   "outputs": [
    {
     "name": "stdout",
     "output_type": "stream",
     "text": [
      "Wall time: 4min 21s\n"
     ]
    }
   ],
   "source": [
    "%%time\n",
    "\n",
    "svm_150users = LinearSVC(C=C_best_svm2, random_state=17)\n",
    "\n",
    "cv_score = cross_val_score(svm_150users, X_train, y_train, cv=skf).mean()\n",
    "\n",
    "svm_150users.fit(X_train, y_train)\n",
    "y_pred_150users = svm_150users.predict(X_test)\n",
    "acc_score = accuracy_score(y_pred_150users, y_test)"
   ]
  },
  {
   "cell_type": "code",
   "execution_count": 96,
   "metadata": {},
   "outputs": [
    {
     "name": "stdout",
     "output_type": "stream",
     "text": [
      "0.463 0.484\n"
     ]
    }
   ],
   "source": [
    "print(round(cv_score, 3), round(acc_score, 3))"
   ]
  },
  {
   "cell_type": "markdown",
   "metadata": {},
   "source": [
    "## Часть 3. Идентификация  конкретного пользователя и кривые обучения"
   ]
  },
  {
   "cell_type": "markdown",
   "metadata": {},
   "source": [
    "**Поскольку может разочаровать, что многоклассовая доля правильных ответов на выборке из 150 пользовалей невелика, порадуемся тому, что конкретного пользователя можно идентифицировать достаточно хорошо.**"
   ]
  },
  {
   "cell_type": "markdown",
   "metadata": {},
   "source": [
    "**Загрузим сериализованные ранее объекты *X_sparse_150users* и *y_150users*, соответствующие обучающей выборке для 150 пользователей с параметрами (*session_length, window_size*) = (10,10). Так же точно разобьем их на 70% и 30%.**"
   ]
  },
  {
   "cell_type": "markdown",
   "metadata": {},
   "source": [
    "*Поиск лучшего C для 10 юзеров (повторно)*"
   ]
  },
  {
   "cell_type": "code",
   "execution_count": 105,
   "metadata": {},
   "outputs": [],
   "source": [
    "with open(os.path.join(PATH_TO_DATA, \n",
    "         'X_sparse_10users.pkl'), 'rb') as X_sparse_10users_pkl:\n",
    "    X_sparse_10users = pickle.load(X_sparse_10users_pkl)\n",
    "with open(os.path.join(PATH_TO_DATA, \n",
    "                       'y_10users.pkl'), 'rb') as y_10users_pkl:\n",
    "    y_10users = pickle.load(y_10users_pkl)"
   ]
  },
  {
   "cell_type": "code",
   "execution_count": 106,
   "metadata": {},
   "outputs": [],
   "source": [
    "X_train, X_valid, y_train, y_valid = train_test_split(X_sparse_10users, y_10users, \n",
    "                                                      test_size=0.3, \n",
    "                                                     random_state=17, stratify=y_10users)"
   ]
  },
  {
   "cell_type": "code",
   "execution_count": 107,
   "metadata": {},
   "outputs": [
    {
     "name": "stdout",
     "output_type": "stream",
     "text": [
      "Wall time: 50.3 s\n"
     ]
    },
    {
     "data": {
      "text/plain": [
       "LogisticRegressionCV(Cs=array([0.1       , 0.46315789, 0.82631579, 1.18947368, 1.55263158,\n",
       "       1.91578947, 2.27894737, 2.64210526, 3.00526316, 3.36842105,\n",
       "       3.73157895, 4.09473684, 4.45789474, 4.82105263, 5.18421053,\n",
       "       5.54736842, 5.91052632, 6.27368421, 6.63684211, 7.        ]),\n",
       "                     cv=StratifiedKFold(n_splits=3, random_state=17, shuffle=True),\n",
       "                     multi_class='multinomial', n_jobs=-1, random_state=17)"
      ]
     },
     "execution_count": 107,
     "metadata": {},
     "output_type": "execute_result"
    }
   ],
   "source": [
    "%%time\n",
    "logit_c_values2 = np.linspace(0.1, 7, 20)\n",
    "\n",
    "logit_grid_searcher2 = LogisticRegressionCV(Cs = logit_c_values2, cv = skf, multi_class='multinomial', random_state=17, n_jobs = -1)\n",
    "logit_grid_searcher2.fit(X_train, y_train)"
   ]
  },
  {
   "cell_type": "code",
   "execution_count": 111,
   "metadata": {},
   "outputs": [],
   "source": [
    "best_C = logit_grid_searcher2.C_[0]"
   ]
  },
  {
   "cell_type": "code",
   "execution_count": 112,
   "metadata": {},
   "outputs": [],
   "source": [
    "with open(os.path.join(PATH_TO_DATA, 'X_sparse_150users.pkl'), 'rb') as X_sparse_150users_pkl:\n",
    "     X_sparse_150users = pickle.load(X_sparse_150users_pkl)\n",
    "with open(os.path.join(PATH_TO_DATA, 'y_150users.pkl'), 'rb') as y_150users_pkl:\n",
    "    y_150users = pickle.load(y_150users_pkl)"
   ]
  },
  {
   "cell_type": "code",
   "execution_count": 113,
   "metadata": {},
   "outputs": [],
   "source": [
    "X_train_150, X_valid_150, y_train_150, y_valid_150 = train_test_split(X_sparse_150users, \n",
    "                                                                      y_150users, test_size=0.3, \n",
    "                                                     random_state=17, stratify=y_150users)"
   ]
  },
  {
   "cell_type": "markdown",
   "metadata": {},
   "source": [
    "**Обучите `LogisticRegressionCV` для одного значения параметра `C` (лучшего на кросс-валидации в 1 части, используйте точное значение, не на глаз). Теперь будем решать 150 задач \"Один-против-Всех\", поэтому укажите аргумент `multi_class`='ovr'. Как всегда, где возможно, указывайте `n_jobs=-1` и `random_state`=17.**"
   ]
  },
  {
   "cell_type": "code",
   "execution_count": 159,
   "metadata": {},
   "outputs": [
    {
     "name": "stdout",
     "output_type": "stream",
     "text": [
      "Wall time: 9min 19s\n"
     ]
    },
    {
     "data": {
      "text/plain": [
       "LogisticRegressionCV(Cs=[3.7315789473684213],\n",
       "                     cv=StratifiedKFold(n_splits=3, random_state=17, shuffle=True),\n",
       "                     multi_class='ovr', n_jobs=-1, random_state=17)"
      ]
     },
     "execution_count": 159,
     "metadata": {},
     "output_type": "execute_result"
    }
   ],
   "source": [
    "%%time\n",
    "# logit_cv_150users = LogisticRegressionCV(Cs = [best_C], multi_class='ovr', cv=skf, n_jobs=-1, random_state=17)\n",
    "logit_cv_150users = LogisticRegressionCV(Cs=[logit_grid_searcher2.Cs_[10]], random_state=17, n_jobs=-1, multi_class='ovr', cv=skf)\n",
    "logit_cv_150users.fit(X_train_150, y_train_150)"
   ]
  },
  {
   "cell_type": "markdown",
   "metadata": {},
   "source": [
    "**Посмотрите на средние доли правильных ответов на кросс-валидации в задаче идентификации каждого пользователя по отдельности.**"
   ]
  },
  {
   "cell_type": "code",
   "execution_count": 160,
   "metadata": {},
   "outputs": [
    {
     "name": "stdout",
     "output_type": "stream",
     "text": [
      "User 6, CV score: 0.9961110589805345\n",
      "User 13, CV score: 0.9963612857485429\n",
      "User 15, CV score: 0.9952769697538395\n",
      "User 16, CV score: 0.9917946472323876\n",
      "User 28, CV score: 0.9903558433163387\n",
      "User 31, CV score: 0.9941718015284685\n",
      "User 33, CV score: 0.9937234785691199\n",
      "User 39, CV score: 0.9858309092615182\n",
      "User 46, CV score: 0.9979669075099308\n",
      "User 49, CV score: 0.9953082480998404\n",
      "User 50, CV score: 0.994286488797139\n",
      "User 53, CV score: 0.993587939069782\n",
      "User 65, CV score: 0.9968825915152273\n",
      "User 66, CV score: 0.9947869423331562\n",
      "User 82, CV score: 0.9963195812872083\n",
      "User 85, CV score: 0.9963821379792104\n",
      "User 89, CV score: 0.9907103312376843\n",
      "User 92, CV score: 0.9944011760658097\n",
      "User 100, CV score: 0.9944428805271444\n",
      "User 102, CV score: 0.9912003586583675\n",
      "User 103, CV score: 0.9806491299406753\n",
      "User 105, CV score: 0.9969451482072295\n",
      "User 106, CV score: 0.9948390729098245\n",
      "User 118, CV score: 0.9910022624670275\n",
      "User 119, CV score: 0.9965802341705503\n",
      "User 120, CV score: 0.9943177671431401\n",
      "User 126, CV score: 0.9950475952164983\n",
      "User 127, CV score: 0.9915965510410475\n",
      "User 128, CV score: 0.9846214798828105\n",
      "User 138, CV score: 0.9969764265532305\n",
      "User 158, CV score: 0.9970494093605663\n",
      "User 160, CV score: 0.9967887564772241\n",
      "User 165, CV score: 0.9973309144745759\n",
      "User 172, CV score: 0.9964968252478809\n",
      "User 177, CV score: 0.9967574781312231\n",
      "User 203, CV score: 0.9976332718192529\n",
      "User 207, CV score: 0.9879578367895906\n",
      "User 223, CV score: 0.9964759730172136\n",
      "User 233, CV score: 0.9963508596332092\n",
      "User 235, CV score: 0.9965802341705504\n",
      "User 236, CV score: 0.9899075203569901\n",
      "User 237, CV score: 0.9894591973976415\n",
      "User 238, CV score: 0.996163189557203\n",
      "User 240, CV score: 0.9956106054445174\n",
      "User 241, CV score: 0.9959442411351954\n",
      "User 242, CV score: 0.9951831347158362\n",
      "User 245, CV score: 0.9960693545191996\n",
      "User 246, CV score: 0.9969555743225632\n",
      "User 249, CV score: 0.9949329079478276\n",
      "User 252, CV score: 0.996361285748543\n",
      "User 254, CV score: 0.9920970045770646\n",
      "User 256, CV score: 0.9959859455965302\n",
      "User 258, CV score: 0.9959129627891944\n",
      "User 259, CV score: 0.9949016296018267\n",
      "User 260, CV score: 0.997299636128575\n",
      "User 261, CV score: 0.9898449636649881\n",
      "User 263, CV score: 0.9928268326504228\n",
      "User 264, CV score: 0.9965489558245494\n",
      "User 269, CV score: 0.9869882080635577\n",
      "User 270, CV score: 0.9895113279743101\n",
      "User 273, CV score: 0.9943281932584739\n",
      "User 287, CV score: 0.9899492248183249\n",
      "User 294, CV score: 0.9955793270985164\n",
      "User 298, CV score: 0.9912629153503696\n",
      "User 301, CV score: 0.9972683577825738\n",
      "User 308, CV score: 0.9956314576751849\n",
      "User 315, CV score: 0.997497732319915\n",
      "User 318, CV score: 0.9958399799818585\n",
      "User 327, CV score: 0.9965906602858841\n",
      "User 332, CV score: 0.9967053475545548\n",
      "User 333, CV score: 0.9962465984798724\n",
      "User 339, CV score: 0.9970806877065673\n",
      "User 340, CV score: 0.9966323647472187\n",
      "User 342, CV score: 0.9923055268837384\n",
      "User 344, CV score: 0.9965698080552167\n",
      "User 351, CV score: 0.9923472313450731\n",
      "User 356, CV score: 0.9976124195885855\n",
      "User 361, CV score: 0.9964863991325471\n",
      "User 363, CV score: 0.9965072513632146\n",
      "User 411, CV score: 0.9912316370043687\n",
      "User 417, CV score: 0.9966532169778862\n",
      "User 425, CV score: 0.9941613754131348\n",
      "User 430, CV score: 0.9961944679032039\n",
      "User 435, CV score: 0.9969451482072295\n",
      "User 436, CV score: 0.9951727086005026\n",
      "User 440, CV score: 0.9969660004378968\n",
      "User 444, CV score: 0.997893924702595\n",
      "User 475, CV score: 0.9891672661682983\n",
      "User 476, CV score: 0.9970494093605664\n",
      "User 486, CV score: 0.9954020831378436\n",
      "User 515, CV score: 0.9941196709518\n",
      "User 533, CV score: 0.9938590180684579\n",
      "User 561, CV score: 0.9843608269994683\n",
      "User 563, CV score: 0.9967574781312231\n",
      "User 564, CV score: 0.995725292713188\n",
      "User 568, CV score: 0.991648681617716\n",
      "User 569, CV score: 0.9893340840136373\n",
      "User 570, CV score: 0.9982379865086067\n",
      "User 573, CV score: 0.9905747917383462\n",
      "User 575, CV score: 0.990043059856328\n",
      "User 576, CV score: 0.9940779664904653\n",
      "User 580, CV score: 0.9866128679115448\n",
      "User 583, CV score: 0.9808680783626827\n",
      "User 584, CV score: 0.9810557484386893\n",
      "User 600, CV score: 0.9915027160030444\n",
      "User 603, CV score: 0.9956835882518532\n",
      "User 605, CV score: 0.9975498628965833\n",
      "User 640, CV score: 0.9972058010905717\n",
      "User 647, CV score: 0.9977166807419223\n",
      "User 653, CV score: 0.9973830450512443\n",
      "User 664, CV score: 0.9951414302545015\n",
      "User 665, CV score: 0.9968096087078915\n",
      "User 677, CV score: 0.9965176774785482\n",
      "User 692, CV score: 0.996893017630561\n",
      "User 697, CV score: 0.9958816844431934\n",
      "User 705, CV score: 0.996423842440545\n",
      "User 722, CV score: 0.9946931072951529\n",
      "User 740, CV score: 0.9966219386318852\n",
      "User 741, CV score: 0.9967157736698883\n",
      "User 756, CV score: 0.9956627360211859\n",
      "User 780, CV score: 0.9964759730172136\n",
      "User 784, CV score: 0.9966010864012178\n",
      "User 785, CV score: 0.9968096087078915\n",
      "User 797, CV score: 0.9957252927131881\n",
      "User 812, CV score: 0.9948286467944909\n",
      "User 844, CV score: 0.9970806877065673\n",
      "User 859, CV score: 0.9982067081626057\n",
      "User 868, CV score: 0.9964551207865462\n",
      "User 875, CV score: 0.9957357188285217\n",
      "User 932, CV score: 0.9904705305850093\n",
      "User 996, CV score: 0.9934523995704442\n",
      "User 1014, CV score: 0.9972370794365727\n",
      "User 1040, CV score: 0.9970598354759\n",
      "User 1054, CV score: 0.9964342685558787\n",
      "User 1248, CV score: 0.997800089664592\n",
      "User 1267, CV score: 0.9973309144745759\n",
      "User 1299, CV score: 0.9969347220918957\n",
      "User 1371, CV score: 0.9934002689937755\n",
      "User 1797, CV score: 0.9951101519085004\n",
      "User 1798, CV score: 0.9966323647472187\n",
      "User 1993, CV score: 0.9969034437458948\n",
      "User 2118, CV score: 0.9978730724719277\n",
      "User 2174, CV score: 0.9958399799818585\n",
      "User 2191, CV score: 0.9952456914078384\n",
      "User 2250, CV score: 0.9972683577825737\n",
      "User 2355, CV score: 0.9958816844431934\n",
      "User 2408, CV score: 0.9937026263384525\n",
      "User 2493, CV score: 0.9966532169778862\n",
      "User 2625, CV score: 0.9961840417878703\n",
      "User 2902, CV score: 0.9971640966292369\n"
     ]
    }
   ],
   "source": [
    "cv_scores_by_user = {}\n",
    "for user_id in logit_cv_150users.scores_:\n",
    "    mean_score_user = np.mean(logit_cv_150users.scores_[user_id])\n",
    "    cv_scores_by_user[user_id] = mean_score_user\n",
    "    print('User {id}, CV score: {score}'.format(id=user_id, score=mean_score_user))"
   ]
  },
  {
   "cell_type": "markdown",
   "metadata": {},
   "source": [
    "**Результаты кажутся впечатляющими, но возможно, мы забываем про дисбаланс классов, и высокую долю правильных ответов можно получить константным прогнозом. Посчитайте для каждого пользователя разницу между долей правильных ответов на кросс-валидации (только что посчитанную с помощью `LogisticRegressionCV`) и долей меток в *y_train_150*, отличных от ID \n",
    " этого пользователя (именно такую долю правильных ответов можно получить, если классификатор всегда \"говорит\", что это не пользователь с номером $i$ в задаче классификации $i$-vs-All).**"
   ]
  },
  {
   "cell_type": "code",
   "execution_count": 170,
   "metadata": {},
   "outputs": [
    {
     "name": "stdout",
     "output_type": "stream",
     "text": [
      "CV_SCORES_BY_USER:0 0.9961110589805345\n",
      "RATIO: 0.015844604255589565\n",
      "CV_SCORES_BY_USER:0 0.9963612857485429\n",
      "RATIO: 0.004314090951927205\n",
      "CV_SCORES_BY_USER:0 0.9952769697538395\n",
      "RATIO: 0.0056303472571716156\n",
      "CV_SCORES_BY_USER:0 0.9917946472323876\n",
      "RATIO: 0.015521932935932322\n",
      "CV_SCORES_BY_USER:0 0.9903558433163387\n",
      "RATIO: 0.012199626412824382\n",
      "CV_SCORES_BY_USER:0 0.9941718015284685\n",
      "RATIO: 0.005577630765037062\n",
      "CV_SCORES_BY_USER:0 0.9937234785691199\n",
      "RATIO: 0.007510661988697241\n",
      "CV_SCORES_BY_USER:0 0.9858309092615182\n",
      "RATIO: 0.016350535127688883\n",
      "CV_SCORES_BY_USER:0 0.9979669075099308\n",
      "RATIO: 0.00288591235609649\n",
      "CV_SCORES_BY_USER:0 0.9953082480998404\n",
      "RATIO: 0.006210593678203124\n",
      "CV_SCORES_BY_USER:0 0.994286488797139\n",
      "RATIO: 0.005883463377800151\n",
      "CV_SCORES_BY_USER:0 0.993587939069782\n",
      "RATIO: 0.008018917498686285\n",
      "CV_SCORES_BY_USER:0 0.9968825915152273\n",
      "RATIO: 0.0030851931644669413\n",
      "CV_SCORES_BY_USER:0 0.9947869423331562\n",
      "RATIO: 0.005166631733389227\n",
      "CV_SCORES_BY_USER:0 0.9963195812872083\n",
      "RATIO: 0.0036625053629542816\n",
      "CV_SCORES_BY_USER:0 0.9963821379792104\n",
      "RATIO: 0.003820069493866957\n",
      "CV_SCORES_BY_USER:0 0.9907103312376843\n",
      "RATIO: 0.01002516822695633\n",
      "CV_SCORES_BY_USER:0 0.9944011760658097\n",
      "RATIO: 0.005883463377800151\n",
      "CV_SCORES_BY_USER:0 0.9944428805271444\n",
      "RATIO: 0.005282520516932365\n",
      "CV_SCORES_BY_USER:0 0.9912003586583675\n",
      "RATIO: 0.009653038022653585\n",
      "CV_SCORES_BY_USER:0 0.9806491299406753\n",
      "RATIO: 0.02354146435164929\n",
      "CV_SCORES_BY_USER:0 0.9969451482072295\n",
      "RATIO: 0.003998701992023531\n",
      "CV_SCORES_BY_USER:0 0.9948390729098245\n",
      "RATIO: 0.012947923157350006\n",
      "CV_SCORES_BY_USER:0 0.9910022624670275\n",
      "RATIO: 0.01009962718790151\n",
      "CV_SCORES_BY_USER:0 0.9965802341705503\n",
      "RATIO: 0.004072275030358862\n",
      "CV_SCORES_BY_USER:0 0.9943177671431401\n",
      "RATIO: 0.006379518388332197\n",
      "CV_SCORES_BY_USER:0 0.9950475952164983\n",
      "RATIO: 0.0059784147761240995\n",
      "CV_SCORES_BY_USER:0 0.9915965510410475\n",
      "RATIO: 0.01264847173098242\n",
      "CV_SCORES_BY_USER:0 0.9846214798828105\n",
      "RATIO: 0.02082889863340287\n",
      "CV_SCORES_BY_USER:0 0.9969764265532305\n",
      "RATIO: 0.002896398845622987\n",
      "CV_SCORES_BY_USER:0 0.9970494093605663\n",
      "RATIO: 0.0032320823396510606\n",
      "CV_SCORES_BY_USER:0 0.9967887564772241\n",
      "RATIO: 0.003473493685983616\n",
      "CV_SCORES_BY_USER:0 0.9973309144745759\n",
      "RATIO: 0.0029278596300440223\n",
      "CV_SCORES_BY_USER:0 0.9964968252478809\n",
      "RATIO: 0.0037570379052682254\n",
      "CV_SCORES_BY_USER:0 0.9967574781312231\n",
      "RATIO: 0.003515490128378166\n",
      "CV_SCORES_BY_USER:0 0.9976332718192529\n",
      "RATIO: 0.003830575528274043\n",
      "CV_SCORES_BY_USER:0 0.9879578367895906\n",
      "RATIO: 0.013825907721579198\n",
      "CV_SCORES_BY_USER:0 0.9964759730172136\n",
      "RATIO: 0.0035469897670914684\n",
      "CV_SCORES_BY_USER:0 0.9963508596332092\n",
      "RATIO: 0.00377804755525787\n",
      "CV_SCORES_BY_USER:0 0.9965802341705504\n",
      "RATIO: 0.0032635641886591144\n",
      "CV_SCORES_BY_USER:0 0.9899075203569901\n",
      "RATIO: 0.011345782764111054\n",
      "CV_SCORES_BY_USER:0 0.9894591973976415\n",
      "RATIO: 0.01213553813197134\n",
      "CV_SCORES_BY_USER:0 0.996163189557203\n",
      "RATIO: 0.0037465334100779657\n",
      "CV_SCORES_BY_USER:0 0.9956106054445174\n",
      "RATIO: 0.004240482472672447\n",
      "CV_SCORES_BY_USER:0 0.9959442411351954\n",
      "RATIO: 0.003914631721077256\n",
      "CV_SCORES_BY_USER:0 0.9951831347158362\n",
      "RATIO: 0.0053668200542971245\n",
      "CV_SCORES_BY_USER:0 0.9960693545191996\n",
      "RATIO: 0.004250997309097762\n",
      "CV_SCORES_BY_USER:0 0.9969555743225632\n",
      "RATIO: 0.00288591235609649\n",
      "CV_SCORES_BY_USER:0 0.9949329079478276\n",
      "RATIO: 0.004924405142336263\n",
      "CV_SCORES_BY_USER:0 0.996361285748543\n",
      "RATIO: 0.0037150212436426046\n",
      "CV_SCORES_BY_USER:0 0.9920970045770646\n",
      "RATIO: 0.010184736587112674\n",
      "CV_SCORES_BY_USER:0 0.9959859455965302\n",
      "RATIO: 0.004461340287159508\n",
      "CV_SCORES_BY_USER:0 0.9959129627891944\n",
      "RATIO: 0.004261512365715243\n",
      "CV_SCORES_BY_USER:0 0.9949016296018267\n",
      "RATIO: 0.004840179778106044\n",
      "CV_SCORES_BY_USER:0 0.997299636128575\n",
      "RATIO: 0.0029278596300440223\n",
      "CV_SCORES_BY_USER:0 0.9898449636649881\n",
      "RATIO: 0.011015305477083948\n",
      "CV_SCORES_BY_USER:0 0.9928268326504228\n",
      "RATIO: 0.00847466537689129\n",
      "CV_SCORES_BY_USER:0 0.9965489558245494\n",
      "RATIO: 0.003809563679368701\n",
      "CV_SCORES_BY_USER:0 0.9869882080635577\n",
      "RATIO: 0.014458570431324435\n",
      "CV_SCORES_BY_USER:0 0.9895113279743101\n",
      "RATIO: 0.015102766547425015\n",
      "CV_SCORES_BY_USER:0 0.9943281932584739\n",
      "RATIO: 0.00630560684908511\n",
      "CV_SCORES_BY_USER:0 0.9899492248183249\n",
      "RATIO: 0.011900617186263649\n",
      "CV_SCORES_BY_USER:0 0.9955793270985164\n",
      "RATIO: 0.0040617639361423714\n",
      "CV_SCORES_BY_USER:0 0.9912629153503696\n",
      "RATIO: 0.010333712552142587\n",
      "CV_SCORES_BY_USER:0 0.9972683577825738\n",
      "RATIO: 0.0045455021523057425\n",
      "CV_SCORES_BY_USER:0 0.9956314576751849\n",
      "RATIO: 0.005050769666041433\n",
      "CV_SCORES_BY_USER:0 0.997497732319915\n",
      "RATIO: 0.002896398845622987\n",
      "CV_SCORES_BY_USER:0 0.9958399799818585\n",
      "RATIO: 0.004682295267425052\n",
      "CV_SCORES_BY_USER:0 0.9965906602858841\n",
      "RATIO: 0.003379014541270007\n",
      "CV_SCORES_BY_USER:0 0.9967053475545548\n",
      "RATIO: 0.003190109614258221\n",
      "CV_SCORES_BY_USER:0 0.9962465984798724\n",
      "RATIO: 0.005050769666041433\n",
      "CV_SCORES_BY_USER:0 0.9970806877065673\n",
      "RATIO: 0.004093297879022633\n",
      "CV_SCORES_BY_USER:0 0.9966323647472187\n",
      "RATIO: 0.003504990688233694\n",
      "CV_SCORES_BY_USER:0 0.9923055268837384\n",
      "RATIO: 0.008156658292777784\n",
      "CV_SCORES_BY_USER:0 0.9965698080552167\n",
      "RATIO: 0.0032320823396510606\n",
      "CV_SCORES_BY_USER:0 0.9923472313450731\n",
      "RATIO: 0.009047583979464088\n",
      "CV_SCORES_BY_USER:0 0.9976124195885855\n",
      "RATIO: 0.002791543817828242\n",
      "CV_SCORES_BY_USER:0 0.9964863991325471\n",
      "RATIO: 0.003379014541270007\n",
      "CV_SCORES_BY_USER:0 0.9965072513632146\n",
      "RATIO: 0.004724392952169449\n",
      "CV_SCORES_BY_USER:0 0.9912316370043687\n",
      "RATIO: 0.01088743676222597\n",
      "CV_SCORES_BY_USER:0 0.9966532169778862\n",
      "RATIO: 0.003379014541270007\n",
      "CV_SCORES_BY_USER:0 0.9941613754131348\n",
      "RATIO: 0.005872914328862227\n",
      "CV_SCORES_BY_USER:0 0.9961944679032039\n",
      "RATIO: 0.004777020019485214\n",
      "CV_SCORES_BY_USER:0 0.9969451482072295\n",
      "RATIO: 0.002854454203262233\n",
      "CV_SCORES_BY_USER:0 0.9951727086005026\n",
      "RATIO: 0.0050086446272331955\n",
      "CV_SCORES_BY_USER:0 0.9969660004378968\n",
      "RATIO: 0.002917372482589874\n",
      "CV_SCORES_BY_USER:0 0.997893924702595\n",
      "RATIO: 0.0029907871207922447\n",
      "CV_SCORES_BY_USER:0 0.9891672661682983\n",
      "RATIO: 0.012156899990502422\n",
      "CV_SCORES_BY_USER:0 0.9970494093605664\n",
      "RATIO: 0.003883108999183605\n",
      "CV_SCORES_BY_USER:0 0.9954020831378436\n",
      "RATIO: 0.004777020019485214\n",
      "CV_SCORES_BY_USER:0 0.9941196709518\n",
      "RATIO: 0.006052278257950827\n",
      "CV_SCORES_BY_USER:0 0.9938590180684579\n",
      "RATIO: 0.007415421135000578\n",
      "CV_SCORES_BY_USER:0 0.9843608269994683\n",
      "RATIO: 0.019396734971516026\n",
      "CV_SCORES_BY_USER:0 0.9967574781312231\n",
      "RATIO: 0.0037045176278529494\n",
      "CV_SCORES_BY_USER:0 0.995725292713188\n",
      "RATIO: 0.00489281897617501\n",
      "CV_SCORES_BY_USER:0 0.991648681617716\n",
      "RATIO: 0.008241440570173134\n",
      "CV_SCORES_BY_USER:0 0.9893340840136373\n",
      "RATIO: 0.015177976058171658\n",
      "CV_SCORES_BY_USER:0 0.9982379865086067\n",
      "RATIO: 0.004314090951927205\n",
      "CV_SCORES_BY_USER:0 0.9905747917383462\n",
      "RATIO: 0.009121898870020831\n",
      "CV_SCORES_BY_USER:0 0.990043059856328\n",
      "RATIO: 0.011527103986500739\n",
      "CV_SCORES_BY_USER:0 0.9940779664904653\n",
      "RATIO: 0.005640891218872871\n",
      "CV_SCORES_BY_USER:0 0.9866128679115448\n",
      "RATIO: 0.019906211120681406\n",
      "CV_SCORES_BY_USER:0 0.9808680783626827\n",
      "RATIO: 0.03515152823346572\n",
      "CV_SCORES_BY_USER:0 0.9810557484386893\n",
      "RATIO: 0.022036336512334168\n",
      "CV_SCORES_BY_USER:0 0.9915027160030444\n",
      "RATIO: 0.009493637578806665\n",
      "CV_SCORES_BY_USER:0 0.9956835882518532\n",
      "RATIO: 0.004966523119479458\n",
      "CV_SCORES_BY_USER:0 0.9975498628965833\n",
      "RATIO: 0.004955993294216261\n",
      "CV_SCORES_BY_USER:0 0.9972058010905717\n",
      "RATIO: 0.002969810413159188\n",
      "CV_SCORES_BY_USER:0 0.9977166807419223\n",
      "RATIO: 0.003998701992023531\n",
      "CV_SCORES_BY_USER:0 0.9973830450512443\n",
      "RATIO: 0.0027600915848571338\n",
      "CV_SCORES_BY_USER:0 0.9951414302545015\n",
      "RATIO: 0.00545113373098655\n",
      "CV_SCORES_BY_USER:0 0.9968096087078915\n",
      "RATIO: 0.0033370295206812143\n",
      "CV_SCORES_BY_USER:0 0.9965176774785482\n",
      "RATIO: 0.004114321608040201\n",
      "CV_SCORES_BY_USER:0 0.996893017630561\n",
      "RATIO: 0.0031376486461046093\n",
      "CV_SCORES_BY_USER:0 0.9958816844431934\n",
      "RATIO: 0.004777020019485214\n",
      "CV_SCORES_BY_USER:0 0.996423842440545\n",
      "RATIO: 0.003830575528274043\n",
      "CV_SCORES_BY_USER:0 0.9946931072951529\n",
      "RATIO: 0.006421758428557938\n",
      "CV_SCORES_BY_USER:0 0.9966219386318852\n",
      "RATIO: 0.00415637170735793\n",
      "CV_SCORES_BY_USER:0 0.9967157736698883\n",
      "RATIO: 0.0032320823396510606\n",
      "CV_SCORES_BY_USER:0 0.9956627360211859\n",
      "RATIO: 0.004713868200245121\n",
      "CV_SCORES_BY_USER:0 0.9964759730172136\n",
      "RATIO: 0.004250997309097762\n",
      "CV_SCORES_BY_USER:0 0.9966010864012178\n",
      "RATIO: 0.005071833509729747\n",
      "CV_SCORES_BY_USER:0 0.9968096087078915\n",
      "RATIO: 0.002969810413159188\n",
      "CV_SCORES_BY_USER:0 0.9957252927131881\n",
      "RATIO: 0.0048085989062794645\n",
      "CV_SCORES_BY_USER:0 0.9948286467944909\n",
      "RATIO: 0.010610498809348197\n",
      "CV_SCORES_BY_USER:0 0.9970806877065673\n",
      "RATIO: 0.0030432327288699252\n",
      "CV_SCORES_BY_USER:0 0.9982067081626057\n",
      "RATIO: 0.003095683821914513\n",
      "CV_SCORES_BY_USER:0 0.9964551207865462\n",
      "RATIO: 0.0032320823396510606\n",
      "CV_SCORES_BY_USER:0 0.9957357188285217\n",
      "RATIO: 0.009961354996998958\n",
      "CV_SCORES_BY_USER:0 0.9904705305850093\n",
      "RATIO: 0.012039420926011903\n",
      "CV_SCORES_BY_USER:0 0.9934523995704442\n",
      "RATIO: 0.009610526315789474\n",
      "CV_SCORES_BY_USER:0 0.9972370794365727\n",
      "RATIO: 0.004229967856432378\n",
      "CV_SCORES_BY_USER:0 0.9970598354759\n",
      "RATIO: 0.004850707176532216\n",
      "CV_SCORES_BY_USER:0 0.9964342685558787\n",
      "RATIO: 0.0036625053629542816\n",
      "CV_SCORES_BY_USER:0 0.997800089664592\n",
      "RATIO: 0.002676228608465664\n",
      "CV_SCORES_BY_USER:0 0.9973309144745759\n",
      "RATIO: 0.003011764705882353\n",
      "CV_SCORES_BY_USER:0 0.9969347220918957\n",
      "RATIO: 0.003179616981664906\n",
      "CV_SCORES_BY_USER:0 0.9934002689937755\n",
      "RATIO: 0.011399105787076093\n",
      "CV_SCORES_BY_USER:0 0.9951101519085004\n",
      "RATIO: 0.00832623710852493\n",
      "CV_SCORES_BY_USER:0 0.9966323647472187\n",
      "RATIO: 0.004587588373919874\n",
      "CV_SCORES_BY_USER:0 0.9969034437458948\n",
      "RATIO: 0.004093297879022633\n",
      "CV_SCORES_BY_USER:0 0.9978730724719277\n",
      "RATIO: 0.003673008099453758\n",
      "CV_SCORES_BY_USER:0 0.9958399799818585\n",
      "RATIO: 0.004671771397446238\n",
      "CV_SCORES_BY_USER:0 0.9952456914078384\n",
      "RATIO: 0.005198235115335841\n",
      "CV_SCORES_BY_USER:0 0.9972683577825737\n",
      "RATIO: 0.002571419611778356\n",
      "CV_SCORES_BY_USER:0 0.9958816844431934\n",
      "RATIO: 0.012723317987920767\n",
      "CV_SCORES_BY_USER:0 0.9937026263384525\n",
      "RATIO: 0.00763767780976194\n",
      "CV_SCORES_BY_USER:0 0.9966532169778862\n",
      "RATIO: 0.0037045176278529494\n",
      "CV_SCORES_BY_USER:0 0.9961840417878703\n",
      "RATIO: 0.004556023377113052\n",
      "CV_SCORES_BY_USER:0 0.9971640966292369\n",
      "RATIO: 0.0049770531654058136\n"
     ]
    }
   ],
   "source": [
    "class_distr = np.bincount(y_train_150.astype('int'))\n",
    "dif_scores_by_user = {}\n",
    "\n",
    "for user_id in np.unique(y_train_150):\n",
    "    print(\"CV_SCORES_BY_USER:0\", cv_scores_by_user[user_id])\n",
    "    print(\"RATIO:\", class_distr[user_id] / (np.sum(class_distr) - class_distr[user_id]))\n",
    "    dif = cv_scores_by_user[user_id] - (1 - class_distr[user_id] / (np.sum(class_distr) - class_distr[user_id]))\n",
    "    dif_scores_by_user[user_id] = dif"
   ]
  },
  {
   "cell_type": "code",
   "execution_count": 171,
   "metadata": {},
   "outputs": [
    {
     "name": "stdout",
     "output_type": "stream",
     "text": [
      "123\n"
     ]
    }
   ],
   "source": [
    "num_better_than_default = (np.array(list(dif_scores_by_user.values())) > 0).sum()\n",
    "print(num_better_than_default)"
   ]
  },
  {
   "cell_type": "markdown",
   "metadata": {},
   "source": [
    "**<font color='red'>Вопрос 7. </font> Посчитайте долю пользователей, для которых логистическая регрессия на кросс-валидации дает прогноз лучше константного. Округлите до 3 знаков после запятой.**"
   ]
  },
  {
   "cell_type": "code",
   "execution_count": 176,
   "metadata": {},
   "outputs": [
    {
     "name": "stdout",
     "output_type": "stream",
     "text": [
      "0.82\n"
     ]
    }
   ],
   "source": [
    "print(round(num_better_than_default/len(np.unique(y_train_150)), 3))"
   ]
  },
  {
   "cell_type": "markdown",
   "metadata": {},
   "source": [
    "**Дальше будем строить кривые обучения для конкретного пользователя, допустим, для 128-го. Составьте новый бинарный вектор на основе *y_150users*, его значения будут 1 или 0 в зависимости от того, равен ли ID-шник пользователя 128.**"
   ]
  },
  {
   "cell_type": "code",
   "execution_count": 183,
   "metadata": {},
   "outputs": [
    {
     "name": "stdout",
     "output_type": "stream",
     "text": [
      "[   6    6    6 ... 2902 2902 2902]\n"
     ]
    }
   ],
   "source": [
    "print(y_150users)"
   ]
  },
  {
   "cell_type": "code",
   "execution_count": 184,
   "metadata": {},
   "outputs": [],
   "source": [
    "y_binary_128 = [1 if user_id == 128 else 0 for user_id in y_150users]"
   ]
  },
  {
   "cell_type": "code",
   "execution_count": 185,
   "metadata": {},
   "outputs": [],
   "source": [
    "from sklearn.model_selection import learning_curve\n",
    "\n",
    "def plot_learning_curve(val_train, val_test, train_sizes, \n",
    "                        xlabel='Training Set Size', ylabel='score'):\n",
    "    def plot_with_err(x, data, **kwargs):\n",
    "        mu, std = data.mean(1), data.std(1)\n",
    "        lines = plt.plot(x, mu, '-', **kwargs)\n",
    "        plt.fill_between(x, mu - std, mu + std, edgecolor='none',\n",
    "                         facecolor=lines[0].get_color(), alpha=0.2)\n",
    "    plot_with_err(train_sizes, val_train, label='train')\n",
    "    plot_with_err(train_sizes, val_test, label='valid')\n",
    "    plt.xlabel(xlabel); plt.ylabel(ylabel)\n",
    "    plt.legend(loc='lower right');"
   ]
  },
  {
   "cell_type": "markdown",
   "metadata": {},
   "source": [
    "**Посчитайте доли правильных ответов на кросс-валидации в задаче классификации \"user128-vs-All\" в зависимости от размера выборки. Не помешает посмотреть встроенную документацию для *learning_curve*.**"
   ]
  },
  {
   "cell_type": "code",
   "execution_count": 188,
   "metadata": {},
   "outputs": [
    {
     "name": "stdout",
     "output_type": "stream",
     "text": [
      "Wall time: 21.5 s\n"
     ]
    }
   ],
   "source": [
    "%%time\n",
    "train_sizes = np.linspace(0.25, 1, 20)\n",
    "estimator = svm_grid_searcher2.best_estimator_\n",
    "n_train, val_train, val_test = learning_curve(estimator, X_train, y_train, train_sizes=train_sizes, random_state=17, cv=skf)"
   ]
  },
  {
   "cell_type": "code",
   "execution_count": 189,
   "metadata": {},
   "outputs": [
    {
     "data": {
      "image/png": "[encoded data removed]",
      "text/plain": [
       "<Figure size 432x288 with 1 Axes>"
      ]
     },
     "metadata": {
      "needs_background": "light"
     },
     "output_type": "display_data"
    }
   ],
   "source": [
    "plot_learning_curve(val_train, val_test, n_train, \n",
    "                    xlabel='train_size', ylabel='accuracy')"
   ]
  },
  {
   "cell_type": "markdown",
   "metadata": {},
   "source": [
    "**Сделайте выводы о том, помогут ли алгоритму новые размеченные данные при той же постановке задачи.**"
   ]
  },
  {
   "cell_type": "markdown",
   "metadata": {},
   "source": [
    "## Пути улучшения\n",
    "- конечно, можно проверить еще кучу алгоритмов, например, Xgboost, но в такой задаче очень маловероятно, что что-то справится лучше линейных методов\n",
    "- интересно проверить качество алгоритма на данных, где сессии выделялись не по количеству посещенных сайтов, а по времени, например, 5, 7, 10 и 15 минут. Отдельно стоит отметить данные нашего [соревнования](https://inclass.kaggle.com/c/catch-me-if-you-can-intruder-detection-through-webpage-session-tracking2) \n",
    "- опять же, если ресурсы позволяют, можно проверить, насколько хорошо можно решить задачу для 3000 пользователей\n",
    "\n",
    "\n",
    "На следующей неделе мы вспомним про линейные модели, обучаемые стохастическим градиентным спуском, и порадуемся тому, насколько быстрее они работают. Также сделаем первые (или не первые) посылки в [соревновании](https://inclass.kaggle.com/c/catch-me-if-you-can-intruder-detection-through-webpage-session-tracking2) Kaggle Inclass."
   ]
  }
 ],
 "metadata": {
  "anaconda-cloud": {},
  "kernelspec": {
   "display_name": "Python 3",
   "language": "python",
   "name": "python3"
  },
  "language_info": {
   "codemirror_mode": {
    "name": "ipython",
    "version": 3
   },
   "file_extension": ".py",
   "mimetype": "text/x-python",
   "name": "python",
   "nbconvert_exporter": "python",
   "pygments_lexer": "ipython3",
   "version": "3.8.5"
  }
 },
 "nbformat": 4,
 "nbformat_minor": 1
}
